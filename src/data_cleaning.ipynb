{
 "cells": [
  {
   "cell_type": "code",
   "execution_count": 69,
   "id": "8ac19908",
   "metadata": {},
   "outputs": [],
   "source": [
    "import pandas as pd"
   ]
  },
  {
   "cell_type": "code",
   "execution_count": 70,
   "id": "e229d19a",
   "metadata": {},
   "outputs": [],
   "source": [
    "def clean_row(val):\n",
    "    if \":\" in str(val):\n",
    "        return val.split(\":\")[1]\n",
    "    else:\n",
    "        return val"
   ]
  },
  {
   "cell_type": "code",
   "execution_count": 71,
   "id": "68dc4cf2",
   "metadata": {},
   "outputs": [],
   "source": [
    "def clean_mq(file_path):\n",
    "    data = pd.read_csv(file_path, delimiter=' ', header=None)\n",
    "    mq_header = ['label', 'qid', '1', '2', '3', '4', '5', '6', '7', '8', '9', '10', '11', '12', '13', '14', '15', '16', '17', '18', '19', '20', '21', '22', '23', '24', '25', '26', '27', '28', '29', '30', '31', '32', '33', '34', '35', '36', '37', '38', '39', '40', '41', '42', '43', '44', '45', '46', '#docid', 'inc', 'prob']\n",
    "    \n",
    "    data.drop([48, 49, 51, 52, 54, 55], axis=1, inplace=True)\n",
    "    data = data.applymap(clean_row)\n",
    "    data.columns = mq_header\n",
    "    \n",
    "    return data"
   ]
  },
  {
   "cell_type": "code",
   "execution_count": 75,
   "id": "738fbd6e",
   "metadata": {},
   "outputs": [],
   "source": [
    "def clean_mslr(file_path):\n",
    "    data = pd.read_csv(file_path, delimiter=' ', header=None)\n",
    "    mslr_header = ['label','qid','1','2','3','4','5','6','7','8','9','10','11','12','13','14','15','16','17','18','19','20','21','22','23','24','25','26','27','28','29','30','31','32','33','34','35','36','37','38','39','40','41','42','43','44','45','46','47','48','49','50','51','52','53','54','55','56','57','58','59','60','61','62','63','64','65','66','67','68','69','70','71','72','73','74','75','76','77','78','79','80','81','82','83','84','85','86','87','88','89','90','91','92','93','94','95','96','97','98','99','100','101','102','103','104','105','106','107','108','109','110','111','112','113','114','115','116','117','118','119','120','121','122','123','124','125','126','127','128','129','130','131','132','133','134','135','136']\n",
    "    \n",
    "    data.drop([138], axis=1, inplace=True)\n",
    "    data = data.applymap(clean_row)\n",
    "    data.columns = mslr_header\n",
    "    \n",
    "    return data"
   ]
  }
 ],
 "metadata": {
  "kernelspec": {
   "display_name": "letor",
   "language": "python",
   "name": "letor"
  },
  "language_info": {
   "codemirror_mode": {
    "name": "ipython",
    "version": 3
   },
   "file_extension": ".py",
   "mimetype": "text/x-python",
   "name": "python",
   "nbconvert_exporter": "python",
   "pygments_lexer": "ipython3",
   "version": "3.9.16"
  }
 },
 "nbformat": 4,
 "nbformat_minor": 5
}
